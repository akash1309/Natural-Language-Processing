{
  "nbformat": 4,
  "nbformat_minor": 0,
  "metadata": {
    "colab": {
      "name": "Working_With_Text_Part2.ipynb",
      "provenance": []
    },
    "kernelspec": {
      "name": "python3",
      "display_name": "Python 3"
    }
  },
  "cells": [
    {
      "cell_type": "markdown",
      "metadata": {
        "id": "L_TI6EXspnv0",
        "colab_type": "text"
      },
      "source": [
        "# Python Working with text files"
      ]
    },
    {
      "cell_type": "markdown",
      "metadata": {
        "id": "c8E2P2JrqDYU",
        "colab_type": "text"
      },
      "source": [
        "Lets work on reading and writing into files"
      ]
    },
    {
      "cell_type": "markdown",
      "metadata": {
        "id": "dp407X3xqX_l",
        "colab_type": "text"
      },
      "source": [
        "Writing into a text file.\n",
        "This method only works in jupyter notebook."
      ]
    },
    {
      "cell_type": "code",
      "metadata": {
        "id": "JG13W7GjpelF",
        "colab_type": "code",
        "colab": {
          "base_uri": "https://localhost:8080/",
          "height": 34
        },
        "outputId": "1fa23ca4-82b4-40d8-def9-850a2849a95d"
      },
      "source": [
        "%%writefile sample.txt\n",
        "Hey There,I am Akash.\n",
        "This is the second line of file."
      ],
      "execution_count": 1,
      "outputs": [
        {
          "output_type": "stream",
          "text": [
            "Writing sample.txt\n"
          ],
          "name": "stdout"
        }
      ]
    },
    {
      "cell_type": "code",
      "metadata": {
        "id": "5N01hM_7qW7z",
        "colab_type": "code",
        "colab": {
          "base_uri": "https://localhost:8080/",
          "height": 34
        },
        "outputId": "4d767eed-71e0-4115-cfab-8921f563810e"
      },
      "source": [
        "pwd"
      ],
      "execution_count": 2,
      "outputs": [
        {
          "output_type": "execute_result",
          "data": {
            "text/plain": [
              "'/content'"
            ]
          },
          "metadata": {
            "tags": []
          },
          "execution_count": 2
        }
      ]
    },
    {
      "cell_type": "markdown",
      "metadata": {
        "id": "4_J6kX4-rsc7",
        "colab_type": "text"
      },
      "source": [
        "Opening the file"
      ]
    },
    {
      "cell_type": "code",
      "metadata": {
        "id": "a--zmuh7rmj6",
        "colab_type": "code",
        "colab": {}
      },
      "source": [
        "myfile = open('sample.txt')"
      ],
      "execution_count": 0,
      "outputs": []
    },
    {
      "cell_type": "code",
      "metadata": {
        "id": "iLmVb7HPrzvx",
        "colab_type": "code",
        "colab": {
          "base_uri": "https://localhost:8080/",
          "height": 34
        },
        "outputId": "27e54a7a-4280-4d5e-c2a4-5da50af3fee3"
      },
      "source": [
        "myfile"
      ],
      "execution_count": 5,
      "outputs": [
        {
          "output_type": "execute_result",
          "data": {
            "text/plain": [
              "<_io.TextIOWrapper name='sample.txt' mode='r' encoding='UTF-8'>"
            ]
          },
          "metadata": {
            "tags": []
          },
          "execution_count": 5
        }
      ]
    },
    {
      "cell_type": "code",
      "metadata": {
        "id": "uqNUWnWtr45T",
        "colab_type": "code",
        "colab": {
          "base_uri": "https://localhost:8080/",
          "height": 34
        },
        "outputId": "4b961e93-d09b-4c89-fcd9-66a3ed8b57ab"
      },
      "source": [
        "myfile.read()"
      ],
      "execution_count": 6,
      "outputs": [
        {
          "output_type": "execute_result",
          "data": {
            "text/plain": [
              "'Hey There,I am Akash.\\nThis is the second line of file.'"
            ]
          },
          "metadata": {
            "tags": []
          },
          "execution_count": 6
        }
      ]
    },
    {
      "cell_type": "code",
      "metadata": {
        "id": "TOG5R0cAsLip",
        "colab_type": "code",
        "colab": {
          "base_uri": "https://localhost:8080/",
          "height": 34
        },
        "outputId": "3ec5c86b-047d-4a0d-ca2c-0fba8757abbe"
      },
      "source": [
        "myfile.read()"
      ],
      "execution_count": 7,
      "outputs": [
        {
          "output_type": "execute_result",
          "data": {
            "text/plain": [
              "''"
            ]
          },
          "metadata": {
            "tags": []
          },
          "execution_count": 7
        }
      ]
    },
    {
      "cell_type": "markdown",
      "metadata": {
        "id": "I3MWTjm7sZmQ",
        "colab_type": "text"
      },
      "source": [
        "You can see, that there is empty text. It is because,first the pointer is in the beginning and after the first read, it came to the end.\n",
        "\n",
        "So, to read file again, we can use seek()"
      ]
    },
    {
      "cell_type": "code",
      "metadata": {
        "id": "B7cGwYjqsWJk",
        "colab_type": "code",
        "colab": {
          "base_uri": "https://localhost:8080/",
          "height": 34
        },
        "outputId": "0b449f47-cf72-4ddc-d23f-dc01bf800c97"
      },
      "source": [
        "myfile.seek(0)"
      ],
      "execution_count": 10,
      "outputs": [
        {
          "output_type": "execute_result",
          "data": {
            "text/plain": [
              "0"
            ]
          },
          "metadata": {
            "tags": []
          },
          "execution_count": 10
        }
      ]
    },
    {
      "cell_type": "code",
      "metadata": {
        "id": "oZCzbd54s3r1",
        "colab_type": "code",
        "colab": {}
      },
      "source": [
        "content = myfile.read()"
      ],
      "execution_count": 0,
      "outputs": []
    },
    {
      "cell_type": "code",
      "metadata": {
        "id": "ZKs-g6VPs6Pv",
        "colab_type": "code",
        "colab": {
          "base_uri": "https://localhost:8080/",
          "height": 34
        },
        "outputId": "85583d50-bd85-4d1c-db23-2e3aa87255d5"
      },
      "source": [
        "content"
      ],
      "execution_count": 12,
      "outputs": [
        {
          "output_type": "execute_result",
          "data": {
            "text/plain": [
              "'Hey There,I am Akash.\\nThis is the second line of file.'"
            ]
          },
          "metadata": {
            "tags": []
          },
          "execution_count": 12
        }
      ]
    },
    {
      "cell_type": "markdown",
      "metadata": {
        "id": "giSfIduwtGS5",
        "colab_type": "text"
      },
      "source": [
        "Closing the file"
      ]
    },
    {
      "cell_type": "code",
      "metadata": {
        "id": "2TH_Il6BtBy7",
        "colab_type": "code",
        "colab": {}
      },
      "source": [
        "myfile.close()"
      ],
      "execution_count": 0,
      "outputs": []
    },
    {
      "cell_type": "markdown",
      "metadata": {
        "id": "27fmx8qbtdY7",
        "colab_type": "text"
      },
      "source": [
        "- read() method reads whole file\n",
        "- readlines() method will read file according to each line separated."
      ]
    },
    {
      "cell_type": "code",
      "metadata": {
        "id": "3A-swVD1tJwd",
        "colab_type": "code",
        "colab": {}
      },
      "source": [
        "myfile = open('sample.txt')\n",
        "myfile = myfile.readlines()"
      ],
      "execution_count": 0,
      "outputs": []
    },
    {
      "cell_type": "code",
      "metadata": {
        "id": "JIm51kzxt1Q7",
        "colab_type": "code",
        "colab": {
          "base_uri": "https://localhost:8080/",
          "height": 68
        },
        "outputId": "09f28be9-e6b2-46c2-e8e9-f129202af97e"
      },
      "source": [
        "for line in myfile:\n",
        "  print(line)"
      ],
      "execution_count": 17,
      "outputs": [
        {
          "output_type": "stream",
          "text": [
            "Hey There,I am Akash.\n",
            "\n",
            "This is the second line of file.\n"
          ],
          "name": "stdout"
        }
      ]
    },
    {
      "cell_type": "code",
      "metadata": {
        "id": "cnZG62S4t7os",
        "colab_type": "code",
        "colab": {
          "base_uri": "https://localhost:8080/",
          "height": 51
        },
        "outputId": "eb67f31d-eddb-45e0-d68e-356e2eb6c63c"
      },
      "source": [
        "for line in myfile:\n",
        "  print(line.split())"
      ],
      "execution_count": 18,
      "outputs": [
        {
          "output_type": "stream",
          "text": [
            "['Hey', 'There,I', 'am', 'Akash.']\n",
            "['This', 'is', 'the', 'second', 'line', 'of', 'file.']\n"
          ],
          "name": "stdout"
        }
      ]
    },
    {
      "cell_type": "markdown",
      "metadata": {
        "id": "kzZoU_twxVhZ",
        "colab_type": "text"
      },
      "source": [
        "Writing to a file"
      ]
    },
    {
      "cell_type": "code",
      "metadata": {
        "id": "LEH6larHuO5j",
        "colab_type": "code",
        "colab": {
          "base_uri": "https://localhost:8080/",
          "height": 34
        },
        "outputId": "74cd3ab4-ed76-4c21-83f1-26c742ef0357"
      },
      "source": [
        "myfile = open('sample.txt','w+') #w+ stands for both read and write but it will clear the file on opening\n",
        "myfile"
      ],
      "execution_count": 19,
      "outputs": [
        {
          "output_type": "execute_result",
          "data": {
            "text/plain": [
              "<_io.TextIOWrapper name='sample.txt' mode='w+' encoding='UTF-8'>"
            ]
          },
          "metadata": {
            "tags": []
          },
          "execution_count": 19
        }
      ]
    },
    {
      "cell_type": "code",
      "metadata": {
        "id": "UhZeUIJgxpvj",
        "colab_type": "code",
        "colab": {
          "base_uri": "https://localhost:8080/",
          "height": 34
        },
        "outputId": "e3535f33-f3e7-40a0-de37-bb8dc9b47b16"
      },
      "source": [
        "myfile.read()"
      ],
      "execution_count": 20,
      "outputs": [
        {
          "output_type": "execute_result",
          "data": {
            "text/plain": [
              "''"
            ]
          },
          "metadata": {
            "tags": []
          },
          "execution_count": 20
        }
      ]
    },
    {
      "cell_type": "markdown",
      "metadata": {
        "id": "BUku8yNGxuuH",
        "colab_type": "text"
      },
      "source": [
        "See w+ has cleared data from file"
      ]
    },
    {
      "cell_type": "code",
      "metadata": {
        "id": "MGScgVLGxttn",
        "colab_type": "code",
        "colab": {
          "base_uri": "https://localhost:8080/",
          "height": 34
        },
        "outputId": "d695d209-a5a8-4611-ba64-0424dfaf8067"
      },
      "source": [
        "myfile.write('Hey there.')"
      ],
      "execution_count": 21,
      "outputs": [
        {
          "output_type": "execute_result",
          "data": {
            "text/plain": [
              "10"
            ]
          },
          "metadata": {
            "tags": []
          },
          "execution_count": 21
        }
      ]
    },
    {
      "cell_type": "code",
      "metadata": {
        "id": "sYqTyr1Kx2Mc",
        "colab_type": "code",
        "colab": {
          "base_uri": "https://localhost:8080/",
          "height": 34
        },
        "outputId": "b74d0eb0-aad2-4432-d912-28e7ef68dd15"
      },
      "source": [
        "myfile.seek(0)\n",
        "myfile.readlines()"
      ],
      "execution_count": 22,
      "outputs": [
        {
          "output_type": "execute_result",
          "data": {
            "text/plain": [
              "['Hey there.']"
            ]
          },
          "metadata": {
            "tags": []
          },
          "execution_count": 22
        }
      ]
    },
    {
      "cell_type": "code",
      "metadata": {
        "id": "lvoCg3aIx8EX",
        "colab_type": "code",
        "colab": {}
      },
      "source": [
        "myfile.close()"
      ],
      "execution_count": 0,
      "outputs": []
    },
    {
      "cell_type": "markdown",
      "metadata": {
        "id": "drsh2o1CyA5X",
        "colab_type": "text"
      },
      "source": [
        "Appending to a file"
      ]
    },
    {
      "cell_type": "code",
      "metadata": {
        "id": "IewZu0REx_7C",
        "colab_type": "code",
        "colab": {}
      },
      "source": [
        "myfile = open('sample.txt','a+')"
      ],
      "execution_count": 0,
      "outputs": []
    },
    {
      "cell_type": "code",
      "metadata": {
        "id": "XRamhwgTyHcv",
        "colab_type": "code",
        "colab": {
          "base_uri": "https://localhost:8080/",
          "height": 34
        },
        "outputId": "45d4d2c8-6133-481c-a534-746c0ee33b64"
      },
      "source": [
        "myfile.write('My first line')"
      ],
      "execution_count": 25,
      "outputs": [
        {
          "output_type": "execute_result",
          "data": {
            "text/plain": [
              "13"
            ]
          },
          "metadata": {
            "tags": []
          },
          "execution_count": 25
        }
      ]
    },
    {
      "cell_type": "code",
      "metadata": {
        "id": "w__qIRyayNwT",
        "colab_type": "code",
        "colab": {}
      },
      "source": [
        "myfile.close()"
      ],
      "execution_count": 0,
      "outputs": []
    },
    {
      "cell_type": "code",
      "metadata": {
        "id": "PNQY0ElJyPlE",
        "colab_type": "code",
        "colab": {
          "base_uri": "https://localhost:8080/",
          "height": 34
        },
        "outputId": "09c2fcf8-4d77-4f01-8a51-d8ba1cb13bdf"
      },
      "source": [
        "myfile = open('sample.txt')\n",
        "myfile.readlines()"
      ],
      "execution_count": 27,
      "outputs": [
        {
          "output_type": "execute_result",
          "data": {
            "text/plain": [
              "['Hey there.My first line']"
            ]
          },
          "metadata": {
            "tags": []
          },
          "execution_count": 27
        }
      ]
    },
    {
      "cell_type": "code",
      "metadata": {
        "id": "MEFn2D87yU4J",
        "colab_type": "code",
        "colab": {}
      },
      "source": [
        "myfile.close()"
      ],
      "execution_count": 0,
      "outputs": []
    },
    {
      "cell_type": "markdown",
      "metadata": {
        "id": "bnAHlChgy23a",
        "colab_type": "text"
      },
      "source": [
        "As we have to close the file everytime, Sometimes, what happens is that we forget to close the file.\n",
        "\n",
        "So, for this, content manager is used."
      ]
    },
    {
      "cell_type": "code",
      "metadata": {
        "id": "SgEX9v99yhhj",
        "colab_type": "code",
        "colab": {
          "base_uri": "https://localhost:8080/",
          "height": 34
        },
        "outputId": "c343e129-e497-4372-83a1-80a57a73f53c"
      },
      "source": [
        "with open('sample.txt','r') as myfile:\n",
        "  a = myfile.readlines()\n",
        "  print(a)"
      ],
      "execution_count": 29,
      "outputs": [
        {
          "output_type": "stream",
          "text": [
            "['Hey there.My first line']\n"
          ],
          "name": "stdout"
        }
      ]
    },
    {
      "cell_type": "code",
      "metadata": {
        "id": "x6caaSTyzOtB",
        "colab_type": "code",
        "colab": {
          "base_uri": "https://localhost:8080/",
          "height": 34
        },
        "outputId": "2e6b93b9-8621-49db-c02e-1a2230457bce"
      },
      "source": [
        "a"
      ],
      "execution_count": 30,
      "outputs": [
        {
          "output_type": "execute_result",
          "data": {
            "text/plain": [
              "['Hey there.My first line']"
            ]
          },
          "metadata": {
            "tags": []
          },
          "execution_count": 30
        }
      ]
    },
    {
      "cell_type": "code",
      "metadata": {
        "id": "qSuKZn_dzUFg",
        "colab_type": "code",
        "colab": {}
      },
      "source": [
        ""
      ],
      "execution_count": 0,
      "outputs": []
    }
  ]
}