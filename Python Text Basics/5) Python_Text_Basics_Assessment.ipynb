{
  "nbformat": 4,
  "nbformat_minor": 0,
  "metadata": {
    "kernelspec": {
      "display_name": "Python 3",
      "language": "python",
      "name": "python3"
    },
    "language_info": {
      "codemirror_mode": {
        "name": "ipython",
        "version": 3
      },
      "file_extension": ".py",
      "mimetype": "text/x-python",
      "name": "python",
      "nbconvert_exporter": "python",
      "pygments_lexer": "ipython3",
      "version": "3.6.2"
    },
    "colab": {
      "name": "03-Python-Text-Basics-Assessment.ipynb",
      "provenance": [],
      "toc_visible": true
    }
  },
  "cells": [
    {
      "cell_type": "markdown",
      "metadata": {
        "collapsed": true,
        "id": "A_f0Kg1Gp6Rc",
        "colab_type": "text"
      },
      "source": [
        "# Python Text Basics Assessment\n",
        "\n",
        "Welcome to your assessment! Complete the tasks described in bold below by typing the relevant code in the cells.<br>\n",
        "You can compare your answers to the Solutions notebook provided in this folder."
      ]
    },
    {
      "cell_type": "markdown",
      "metadata": {
        "id": "0IWb6ZUmp6Re",
        "colab_type": "text"
      },
      "source": [
        "## f-Strings\n",
        "#### 1. Print an f-string that displays `NLP stands for Natural Language Processing` using the variables provided."
      ]
    },
    {
      "cell_type": "code",
      "metadata": {
        "id": "nJSv1GQKp6Rf",
        "colab_type": "code",
        "colab": {
          "base_uri": "https://localhost:8080/",
          "height": 34
        },
        "outputId": "1686fe95-88f6-4773-8519-33d8a93476ea"
      },
      "source": [
        "abbr = 'NLP'\n",
        "full_text = 'Natural Language Processing'\n",
        "\n",
        "# Enter your code here:\n",
        "print(f'{abbr} stands for {full_text}')"
      ],
      "execution_count": 1,
      "outputs": [
        {
          "output_type": "stream",
          "text": [
            "NLP stands for Natural Language Processing\n"
          ],
          "name": "stdout"
        }
      ]
    },
    {
      "cell_type": "markdown",
      "metadata": {
        "id": "y2d0l8-Pp6Rl",
        "colab_type": "text"
      },
      "source": [
        "## Files\n",
        "#### 2. Create a file in the current working directory called `contacts.txt` by running the cell below:"
      ]
    },
    {
      "cell_type": "code",
      "metadata": {
        "id": "_zAkBxfYp6Rm",
        "colab_type": "code",
        "colab": {
          "base_uri": "https://localhost:8080/",
          "height": 34
        },
        "outputId": "ce35d28e-7fb3-4755-a25f-bd4abd19e4a2"
      },
      "source": [
        "%%writefile contacts.txt\n",
        "First_Name Last_Name, Title, Extension, Email"
      ],
      "execution_count": 2,
      "outputs": [
        {
          "output_type": "stream",
          "text": [
            "Writing contacts.txt\n"
          ],
          "name": "stdout"
        }
      ]
    },
    {
      "cell_type": "markdown",
      "metadata": {
        "id": "Izg60CO-p6Rr",
        "colab_type": "text"
      },
      "source": [
        "#### 3. Open the file and use .read() to save the contents of the file to a string called `fields`.  Make sure the file is closed at the end."
      ]
    },
    {
      "cell_type": "code",
      "metadata": {
        "id": "JUVaIv1Np6Rs",
        "colab_type": "code",
        "colab": {
          "base_uri": "https://localhost:8080/",
          "height": 34
        },
        "outputId": "61a0cf69-f5cb-4b73-8c21-22bb51b5cf6d"
      },
      "source": [
        "# Write your code here:\n",
        "fields = open('contacts.txt','r')\n",
        "\n",
        "\n",
        "\n",
        "    \n",
        "# Run fields to see the contents of contacts.txt:\n",
        "print(fields)\n",
        "\n",
        "fields.close()"
      ],
      "execution_count": 6,
      "outputs": [
        {
          "output_type": "stream",
          "text": [
            "<_io.TextIOWrapper name='contacts.txt' mode='r' encoding='UTF-8'>\n"
          ],
          "name": "stdout"
        }
      ]
    },
    {
      "cell_type": "markdown",
      "metadata": {
        "id": "mfwJmYDFp6Rx",
        "colab_type": "text"
      },
      "source": [
        "## Working with PDF Files\n",
        "#### 4. Use PyPDF2 to open the file `Business_Proposal.pdf`. Extract the text of page 2."
      ]
    },
    {
      "cell_type": "code",
      "metadata": {
        "id": "MZMVky0Pqzlu",
        "colab_type": "code",
        "colab": {
          "base_uri": "https://localhost:8080/",
          "height": 207
        },
        "outputId": "05c3e0e8-d82f-4d00-de6d-e175744db52d"
      },
      "source": [
        "!pip install PyPDF2"
      ],
      "execution_count": 7,
      "outputs": [
        {
          "output_type": "stream",
          "text": [
            "Collecting PyPDF2\n",
            "\u001b[?25l  Downloading https://files.pythonhosted.org/packages/b4/01/68fcc0d43daf4c6bdbc6b33cc3f77bda531c86b174cac56ef0ffdb96faab/PyPDF2-1.26.0.tar.gz (77kB)\n",
            "\r\u001b[K     |████▎                           | 10kB 18.0MB/s eta 0:00:01\r\u001b[K     |████████▌                       | 20kB 6.3MB/s eta 0:00:01\r\u001b[K     |████████████▊                   | 30kB 8.8MB/s eta 0:00:01\r\u001b[K     |█████████████████               | 40kB 11.0MB/s eta 0:00:01\r\u001b[K     |█████████████████████▏          | 51kB 7.1MB/s eta 0:00:01\r\u001b[K     |█████████████████████████▍      | 61kB 8.2MB/s eta 0:00:01\r\u001b[K     |█████████████████████████████▋  | 71kB 9.3MB/s eta 0:00:01\r\u001b[K     |████████████████████████████████| 81kB 5.3MB/s \n",
            "\u001b[?25hBuilding wheels for collected packages: PyPDF2\n",
            "  Building wheel for PyPDF2 (setup.py) ... \u001b[?25l\u001b[?25hdone\n",
            "  Created wheel for PyPDF2: filename=PyPDF2-1.26.0-cp36-none-any.whl size=61086 sha256=7a11983fbb286e177de7b8799ae315906964dfd07fc306c70c1da582ef2eb7e7\n",
            "  Stored in directory: /root/.cache/pip/wheels/53/84/19/35bc977c8bf5f0c23a8a011aa958acd4da4bbd7a229315c1b7\n",
            "Successfully built PyPDF2\n",
            "Installing collected packages: PyPDF2\n",
            "Successfully installed PyPDF2-1.26.0\n"
          ],
          "name": "stdout"
        }
      ]
    },
    {
      "cell_type": "code",
      "metadata": {
        "id": "KTlXgPExrcK1",
        "colab_type": "code",
        "colab": {}
      },
      "source": [
        "import PyPDF2"
      ],
      "execution_count": 0,
      "outputs": []
    },
    {
      "cell_type": "code",
      "metadata": {
        "id": "3UAXzsXyp6Rx",
        "colab_type": "code",
        "colab": {
          "base_uri": "https://localhost:8080/",
          "height": 170
        },
        "outputId": "8ad883e6-1bb3-4b64-c72c-d3ce77373dbb"
      },
      "source": [
        "# Perform import\n",
        "\n",
        "# Open the file as a binary object\n",
        "\n",
        "f = open('drive/My Drive/Pytorch_DataSet/Business_Proposal.pdf','rb')\n",
        "\n",
        "# Use PyPDF2 to read the text of the file\n",
        "myfile = PyPDF2.PdfFileReader(f)\n",
        "\n",
        "\n",
        "# Get the text from page 2 (CHALLENGE: Do this in one step!)\n",
        "page_two_text = myfile.getPage(1).extractText()\n",
        "\n",
        "\n",
        "\n",
        "# Close the file\n",
        "f.close()\n",
        "\n",
        "# Print the contents of page_two_text\n",
        "print(page_two_text)"
      ],
      "execution_count": 11,
      "outputs": [
        {
          "output_type": "stream",
          "text": [
            "AUTHORS:\n",
            " \n",
            "Amy Baker, Finance Chair, x345, abaker@ourcompany.com\n",
            " \n",
            "Chris Donaldson, Accounting Dir., x621, cdonaldson@ourcompany.com\n",
            " \n",
            "Erin Freeman, Sr. VP, x879, efreeman@ourcompany.com\n",
            " \n",
            "\n"
          ],
          "name": "stdout"
        }
      ]
    },
    {
      "cell_type": "code",
      "metadata": {
        "id": "We7NoTL2q-BK",
        "colab_type": "code",
        "colab": {
          "base_uri": "https://localhost:8080/",
          "height": 122
        },
        "outputId": "5c672830-3ae0-4baf-9e34-371aa22ac058"
      },
      "source": [
        "from google.colab import drive\n",
        "drive.mount('/content/drive')"
      ],
      "execution_count": 8,
      "outputs": [
        {
          "output_type": "stream",
          "text": [
            "Go to this URL in a browser: https://accounts.google.com/o/oauth2/auth?client_id=947318989803-6bn6qk8qdgf4n4g3pfee6491hc0brc4i.apps.googleusercontent.com&redirect_uri=urn%3aietf%3awg%3aoauth%3a2.0%3aoob&response_type=code&scope=email%20https%3a%2f%2fwww.googleapis.com%2fauth%2fdocs.test%20https%3a%2f%2fwww.googleapis.com%2fauth%2fdrive%20https%3a%2f%2fwww.googleapis.com%2fauth%2fdrive.photos.readonly%20https%3a%2f%2fwww.googleapis.com%2fauth%2fpeopleapi.readonly\n",
            "\n",
            "Enter your authorization code:\n",
            "··········\n",
            "Mounted at /content/drive\n"
          ],
          "name": "stdout"
        }
      ]
    },
    {
      "cell_type": "markdown",
      "metadata": {
        "id": "Z5jNgfFdp6R1",
        "colab_type": "text"
      },
      "source": [
        "#### 5. Open the file `contacts.txt` in append mode. Add the text of page 2 from above to `contacts.txt`.\n",
        "\n",
        "#### CHALLENGE: See if you can remove the word \"AUTHORS:\""
      ]
    },
    {
      "cell_type": "code",
      "metadata": {
        "id": "uR7NaEJ6p6R2",
        "colab_type": "code",
        "colab": {
          "base_uri": "https://localhost:8080/",
          "height": 54
        },
        "outputId": "96e9478c-6b64-441a-a39f-222b98d2f962"
      },
      "source": [
        "# Simple Solution:\n",
        "# Simple Solution:\n",
        "with open('contacts.txt','a+') as c:\n",
        "    c.write(page_two_text)\n",
        "    c.seek(0)\n",
        "    print(c.read())\n",
        "\n"
      ],
      "execution_count": 13,
      "outputs": [
        {
          "output_type": "execute_result",
          "data": {
            "text/plain": [
              "'AUTHORS:\\n \\nAmy Baker, Finance Chair, x345, abaker@ourcompany.com\\n \\nChris Donaldson, Accounting Dir., x621, cdonaldson@ourcompany.com\\n \\nErin Freeman, Sr. VP, x879, efreeman@ourcompany.com\\n \\n'"
            ]
          },
          "metadata": {
            "tags": []
          },
          "execution_count": 13
        }
      ]
    },
    {
      "cell_type": "code",
      "metadata": {
        "id": "qEOAW2i7p6SC",
        "colab_type": "code",
        "colab": {},
        "outputId": "9b6619c3-0556-4a65-f666-451d4a545ff3"
      },
      "source": [
        "# CHALLENGE Solution (re-run the %%writefile cell above to obtain an unmodified contacts.txt file):\n",
        "with open('contacts.txt','a+') as c:\n",
        "    c.write(page_two_text[8:])\n",
        "    c.seek(0)\n",
        "    print(c.read())\n",
        "\n"
      ],
      "execution_count": 0,
      "outputs": [
        {
          "output_type": "stream",
          "text": [
            "First_Name Last_Name, Title, Extension, Email\n",
            " \n",
            "Amy Baker, Finance Chair, x345, abaker@ourcompany.com\n",
            " \n",
            "Chris Donaldson, Accounting Dir., x621, cdonaldson@ourcompany.com\n",
            " \n",
            "Erin Freeman, Sr. VP, x879, efreeman@ourcompany.com\n",
            " \n",
            "\n"
          ],
          "name": "stdout"
        }
      ]
    },
    {
      "cell_type": "markdown",
      "metadata": {
        "id": "eTs2IiM2p6SH",
        "colab_type": "text"
      },
      "source": [
        "## Regular Expressions\n",
        "#### 6. Using the `page_two_text` variable created above, extract any email addresses that were contained in the file `Business_Proposal.pdf`."
      ]
    },
    {
      "cell_type": "code",
      "metadata": {
        "id": "hnPJw7sjp6SH",
        "colab_type": "code",
        "colab": {
          "base_uri": "https://localhost:8080/",
          "height": 68
        },
        "outputId": "40bdd14e-2400-4124-df09-d004b98ac309"
      },
      "source": [
        "import re\n",
        "\n",
        "# Enter your regex pattern here. This may take several tries!\n",
        "pattern = r'\\w+@\\w+.\\w{3}'\n",
        "\n",
        "re.findall(pattern, page_two_text)"
      ],
      "execution_count": 14,
      "outputs": [
        {
          "output_type": "execute_result",
          "data": {
            "text/plain": [
              "['abaker@ourcompany.com',\n",
              " 'cdonaldson@ourcompany.com',\n",
              " 'efreeman@ourcompany.com']"
            ]
          },
          "metadata": {
            "tags": []
          },
          "execution_count": 14
        }
      ]
    },
    {
      "cell_type": "markdown",
      "metadata": {
        "id": "j1T5y2P6p6SK",
        "colab_type": "text"
      },
      "source": [
        "### Great job!"
      ]
    }
  ]
}