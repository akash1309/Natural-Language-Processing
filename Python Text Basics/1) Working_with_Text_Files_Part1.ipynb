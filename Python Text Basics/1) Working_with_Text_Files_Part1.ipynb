{
  "nbformat": 4,
  "nbformat_minor": 0,
  "metadata": {
    "colab": {
      "name": "Working with Text Files_Part1.ipynb",
      "provenance": [],
      "toc_visible": true
    },
    "kernelspec": {
      "name": "python3",
      "display_name": "Python 3"
    }
  },
  "cells": [
    {
      "cell_type": "markdown",
      "metadata": {
        "id": "EufamGCH3VZ1",
        "colab_type": "text"
      },
      "source": [
        "# <h1><center>1.Python Text Basics"
      ]
    },
    {
      "cell_type": "markdown",
      "metadata": {
        "id": "nGEofC_G5b8B",
        "colab_type": "text"
      },
      "source": [
        "Lets discuss some of the ways to print texts in Python."
      ]
    },
    {
      "cell_type": "code",
      "metadata": {
        "id": "aQOLXTFr3QOv",
        "colab_type": "code",
        "colab": {
          "base_uri": "https://localhost:8080/",
          "height": 34
        },
        "outputId": "6db50492-a4ca-4455-dbf9-af4bdbe85083"
      },
      "source": [
        "# Earlier\n",
        "\n",
        "a = \"Akash\"\n",
        "print('My name is {}'.format(a))\n"
      ],
      "execution_count": 1,
      "outputs": [
        {
          "output_type": "stream",
          "text": [
            "My name is Akash\n"
          ],
          "name": "stdout"
        }
      ]
    },
    {
      "cell_type": "code",
      "metadata": {
        "id": "V5_TNoF_5sqi",
        "colab_type": "code",
        "colab": {
          "base_uri": "https://localhost:8080/",
          "height": 34
        },
        "outputId": "4125d683-9331-45ee-baba-8b4e16a630f4"
      },
      "source": [
        "# Now\n",
        "\n",
        "a = \"Akash\"\n",
        "print(f'My name is {a}')"
      ],
      "execution_count": 2,
      "outputs": [
        {
          "output_type": "stream",
          "text": [
            "My name is Akash\n"
          ],
          "name": "stdout"
        }
      ]
    },
    {
      "cell_type": "code",
      "metadata": {
        "id": "Dd9ujTcn55Bf",
        "colab_type": "code",
        "colab": {
          "base_uri": "https://localhost:8080/",
          "height": 34
        },
        "outputId": "1ea1dca7-468f-4a16-ec54-3ea5d08bf00b"
      },
      "source": [
        "mylist = ['a','b','c']\n",
        "print(f'2nd Element in list is : {mylist[1]}')"
      ],
      "execution_count": 3,
      "outputs": [
        {
          "output_type": "stream",
          "text": [
            "2nd Element in list is : b\n"
          ],
          "name": "stdout"
        }
      ]
    },
    {
      "cell_type": "code",
      "metadata": {
        "id": "nwXlubFG6GmH",
        "colab_type": "code",
        "colab": {
          "base_uri": "https://localhost:8080/",
          "height": 34
        },
        "outputId": "699a1152-5cf5-458a-85ba-0bbe59c829d6"
      },
      "source": [
        "dictionary = {'a':10, 'b':2, 'c':12}\n",
        "print(dictionary)"
      ],
      "execution_count": 4,
      "outputs": [
        {
          "output_type": "stream",
          "text": [
            "{'a': 10, 'b': 2, 'c': 12}\n"
          ],
          "name": "stdout"
        }
      ]
    },
    {
      "cell_type": "code",
      "metadata": {
        "id": "14PQfOuP6U36",
        "colab_type": "code",
        "colab": {
          "base_uri": "https://localhost:8080/",
          "height": 34
        },
        "outputId": "020407a2-5fca-40fa-a489-2e8fd51dcffb"
      },
      "source": [
        "print(f'dictionary : {dictionary[\"a\"]}')"
      ],
      "execution_count": 5,
      "outputs": [
        {
          "output_type": "stream",
          "text": [
            "dictionary : 10\n"
          ],
          "name": "stdout"
        }
      ]
    },
    {
      "cell_type": "code",
      "metadata": {
        "id": "ndGooJp76l1v",
        "colab_type": "code",
        "colab": {
          "base_uri": "https://localhost:8080/",
          "height": 68
        },
        "outputId": "497fbf72-cdb7-452a-9eee-ea688f0ccd27"
      },
      "source": [
        "mylist = [(\"akash\",\"abhishek\",\"akshat\"),(\"dipanshu\",\"ramanand\",100),(\"sukhsagar\",\"waahTaaj\",100)]\n",
        "mylist"
      ],
      "execution_count": 11,
      "outputs": [
        {
          "output_type": "execute_result",
          "data": {
            "text/plain": [
              "[('akash', 'abhishek', 'akshat'),\n",
              " ('dipanshu', 'ramanand', 100),\n",
              " ('sukhsagar', 'waahTaaj', 100)]"
            ]
          },
          "metadata": {
            "tags": []
          },
          "execution_count": 11
        }
      ]
    },
    {
      "cell_type": "code",
      "metadata": {
        "id": "xF8gm9ZW7EAb",
        "colab_type": "code",
        "colab": {
          "base_uri": "https://localhost:8080/",
          "height": 68
        },
        "outputId": "38503e7a-aa8e-4b7b-c83b-7ca29ae966a4"
      },
      "source": [
        "for name in mylist:\n",
        "  print(f\"my name : {name[0]}\")"
      ],
      "execution_count": 12,
      "outputs": [
        {
          "output_type": "stream",
          "text": [
            "my name : akash\n",
            "my name : dipanshu\n",
            "my name : sukhsagar\n"
          ],
          "name": "stdout"
        }
      ]
    },
    {
      "cell_type": "code",
      "metadata": {
        "id": "4bdxQCeo7LYG",
        "colab_type": "code",
        "colab": {
          "base_uri": "https://localhost:8080/",
          "height": 68
        },
        "outputId": "51ccdae2-622a-489c-af4c-a7b0747bb570"
      },
      "source": [
        "for name1,name2,name3 in mylist:\n",
        "  print(f\"{name1}  {name2}  {name3} \")"
      ],
      "execution_count": 13,
      "outputs": [
        {
          "output_type": "stream",
          "text": [
            "akash  abhishek  akshat \n",
            "dipanshu  ramanand  100 \n",
            "sukhsagar  waahTaaj  100 \n"
          ],
          "name": "stdout"
        }
      ]
    },
    {
      "cell_type": "markdown",
      "metadata": {
        "id": "waCSAR_H7iDk",
        "colab_type": "text"
      },
      "source": [
        "This way of representation is not good. Lets align it"
      ]
    },
    {
      "cell_type": "code",
      "metadata": {
        "id": "W7ie5jWI7aZm",
        "colab_type": "code",
        "colab": {
          "base_uri": "https://localhost:8080/",
          "height": 68
        },
        "outputId": "f5c3a1d4-38db-457c-ef0a-806b5a0cbf60"
      },
      "source": [
        "for name1,name2,name3 in mylist:\n",
        "  print(f\"{name1:{10}}  {name2:{10}}  {name3:{10}} \")   #adding 10 blank spaces"
      ],
      "execution_count": 14,
      "outputs": [
        {
          "output_type": "stream",
          "text": [
            "akash       abhishek    akshat     \n",
            "dipanshu    ramanand           100 \n",
            "sukhsagar   waahTaaj           100 \n"
          ],
          "name": "stdout"
        }
      ]
    },
    {
      "cell_type": "code",
      "metadata": {
        "id": "j8yugNIz7u4I",
        "colab_type": "code",
        "colab": {
          "base_uri": "https://localhost:8080/",
          "height": 68
        },
        "outputId": "85ea4889-4dca-49e5-e30d-8fb0a6a1b4a4"
      },
      "source": [
        "for name1,name2,name3 in mylist:\n",
        "  print(f\"{name1:{10}}  {name2:{10}}  {name3:>{10}} \")   #adding 10 blank spaces, > is for covering up the left out space"
      ],
      "execution_count": 20,
      "outputs": [
        {
          "output_type": "stream",
          "text": [
            "akash       abhishek        akshat \n",
            "dipanshu    ramanand           100 \n",
            "sukhsagar   waahTaaj           100 \n"
          ],
          "name": "stdout"
        }
      ]
    },
    {
      "cell_type": "code",
      "metadata": {
        "id": "qbTL8zu-noDb",
        "colab_type": "code",
        "colab": {
          "base_uri": "https://localhost:8080/",
          "height": 68
        },
        "outputId": "872a7334-c57a-4da6-dc2d-30cd3f2e61c5"
      },
      "source": [
        "for name1,name2,name3 in mylist:\n",
        "  print(f\"{name1:{10}}  {name2:{10}}  {name3:.>{10}} \")   #adding 10 blank spaces, > is for covering up the left out space"
      ],
      "execution_count": 21,
      "outputs": [
        {
          "output_type": "stream",
          "text": [
            "akash       abhishek    ....akshat \n",
            "dipanshu    ramanand    .......100 \n",
            "sukhsagar   waahTaaj    .......100 \n"
          ],
          "name": "stdout"
        }
      ]
    },
    {
      "cell_type": "code",
      "metadata": {
        "id": "5fxasDhLoCgq",
        "colab_type": "code",
        "colab": {}
      },
      "source": [
        ""
      ],
      "execution_count": 0,
      "outputs": []
    }
  ]
}