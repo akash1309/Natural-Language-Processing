{
  "nbformat": 4,
  "nbformat_minor": 0,
  "metadata": {
    "colab": {
      "name": "Regular Expressions.ipynb",
      "provenance": []
    },
    "kernelspec": {
      "name": "python3",
      "display_name": "Python 3"
    }
  },
  "cells": [
    {
      "cell_type": "markdown",
      "metadata": {
        "id": "Uk3KqrIMdydY",
        "colab_type": "text"
      },
      "source": [
        "# Working with Regular Expression"
      ]
    },
    {
      "cell_type": "code",
      "metadata": {
        "id": "uMNql4XWdwcL",
        "colab_type": "code",
        "colab": {}
      },
      "source": [
        "text = \"Hey the phone number of the agent is 912-933-2434. Please call soon\""
      ],
      "execution_count": 0,
      "outputs": []
    },
    {
      "cell_type": "code",
      "metadata": {
        "id": "xepi9DMZe0Ly",
        "colab_type": "code",
        "colab": {
          "base_uri": "https://localhost:8080/",
          "height": 34
        },
        "outputId": "df9fe792-b13c-4ed8-aaf1-587ff6869eb9"
      },
      "source": [
        "\"phone\" in text"
      ],
      "execution_count": 3,
      "outputs": [
        {
          "output_type": "execute_result",
          "data": {
            "text/plain": [
              "True"
            ]
          },
          "metadata": {
            "tags": []
          },
          "execution_count": 3
        }
      ]
    },
    {
      "cell_type": "code",
      "metadata": {
        "id": "nceki-x0e4sv",
        "colab_type": "code",
        "colab": {
          "base_uri": "https://localhost:8080/",
          "height": 34
        },
        "outputId": "bd6ceaa7-4160-430f-f22d-da38efd5b0d1"
      },
      "source": [
        "\"912-933-2434\" in text"
      ],
      "execution_count": 4,
      "outputs": [
        {
          "output_type": "execute_result",
          "data": {
            "text/plain": [
              "True"
            ]
          },
          "metadata": {
            "tags": []
          },
          "execution_count": 4
        }
      ]
    },
    {
      "cell_type": "code",
      "metadata": {
        "id": "pAaooNede82y",
        "colab_type": "code",
        "colab": {}
      },
      "source": [
        "#importing the regular expression library\n",
        "\n",
        "import re"
      ],
      "execution_count": 0,
      "outputs": []
    },
    {
      "cell_type": "code",
      "metadata": {
        "id": "zvrZ-EoMfj2P",
        "colab_type": "code",
        "colab": {
          "base_uri": "https://localhost:8080/",
          "height": 34
        },
        "outputId": "c6aaead6-a315-4126-ef7c-4ed12d81f00d"
      },
      "source": [
        "re.search(\"phone\",text)"
      ],
      "execution_count": 6,
      "outputs": [
        {
          "output_type": "execute_result",
          "data": {
            "text/plain": [
              "<_sre.SRE_Match object; span=(8, 13), match='phone'>"
            ]
          },
          "metadata": {
            "tags": []
          },
          "execution_count": 6
        }
      ]
    },
    {
      "cell_type": "code",
      "metadata": {
        "id": "nVyPkyPIfnH6",
        "colab_type": "code",
        "colab": {}
      },
      "source": [
        "a = re.search(\"phone\",text)"
      ],
      "execution_count": 0,
      "outputs": []
    },
    {
      "cell_type": "code",
      "metadata": {
        "id": "Wqxeop2FfsFA",
        "colab_type": "code",
        "colab": {
          "base_uri": "https://localhost:8080/",
          "height": 34
        },
        "outputId": "23bda215-688c-4c6d-af6e-2ce83d2d66fb"
      },
      "source": [
        "a.span()"
      ],
      "execution_count": 8,
      "outputs": [
        {
          "output_type": "execute_result",
          "data": {
            "text/plain": [
              "(8, 13)"
            ]
          },
          "metadata": {
            "tags": []
          },
          "execution_count": 8
        }
      ]
    },
    {
      "cell_type": "code",
      "metadata": {
        "id": "Sl81VYc5ftSy",
        "colab_type": "code",
        "colab": {
          "base_uri": "https://localhost:8080/",
          "height": 34
        },
        "outputId": "2843eafe-0ee8-47c9-b17f-d48b3d6dd708"
      },
      "source": [
        "a.start()"
      ],
      "execution_count": 9,
      "outputs": [
        {
          "output_type": "execute_result",
          "data": {
            "text/plain": [
              "8"
            ]
          },
          "metadata": {
            "tags": []
          },
          "execution_count": 9
        }
      ]
    },
    {
      "cell_type": "code",
      "metadata": {
        "id": "GXpUN6jcfurm",
        "colab_type": "code",
        "colab": {
          "base_uri": "https://localhost:8080/",
          "height": 34
        },
        "outputId": "55c1a1e1-0565-4c23-82d6-82b34747fbf1"
      },
      "source": [
        "a.end()"
      ],
      "execution_count": 10,
      "outputs": [
        {
          "output_type": "execute_result",
          "data": {
            "text/plain": [
              "13"
            ]
          },
          "metadata": {
            "tags": []
          },
          "execution_count": 10
        }
      ]
    },
    {
      "cell_type": "code",
      "metadata": {
        "id": "P2BINFRrfwSD",
        "colab_type": "code",
        "colab": {}
      },
      "source": [
        "# if the string has multiple occurences then ???\n",
        "txt = \"hey there, anyone there,hey??\"\n",
        "a = re.search(\"there\",txt)"
      ],
      "execution_count": 0,
      "outputs": []
    },
    {
      "cell_type": "code",
      "metadata": {
        "id": "gukiS8oKf-gx",
        "colab_type": "code",
        "colab": {
          "base_uri": "https://localhost:8080/",
          "height": 34
        },
        "outputId": "72080551-df24-4a98-ef0e-f95d9ed5f8af"
      },
      "source": [
        "a.span()  # it will give only the occurence of the first match"
      ],
      "execution_count": 14,
      "outputs": [
        {
          "output_type": "execute_result",
          "data": {
            "text/plain": [
              "(4, 9)"
            ]
          },
          "metadata": {
            "tags": []
          },
          "execution_count": 14
        }
      ]
    },
    {
      "cell_type": "code",
      "metadata": {
        "id": "me4rmB9GgBRj",
        "colab_type": "code",
        "colab": {
          "base_uri": "https://localhost:8080/",
          "height": 34
        },
        "outputId": "15c17511-3056-4a5e-8ffc-0e4ca1f93dfb"
      },
      "source": [
        "# what if we want to find all matches\n",
        "\n",
        "a = re.findall(\"there\",txt)\n",
        "a, len(a)"
      ],
      "execution_count": 16,
      "outputs": [
        {
          "output_type": "execute_result",
          "data": {
            "text/plain": [
              "(['there', 'there'], 2)"
            ]
          },
          "metadata": {
            "tags": []
          },
          "execution_count": 16
        }
      ]
    },
    {
      "cell_type": "code",
      "metadata": {
        "id": "uAv3UkZDgRy3",
        "colab_type": "code",
        "colab": {
          "base_uri": "https://localhost:8080/",
          "height": 51
        },
        "outputId": "2780faaf-7566-42bb-f5ea-5fede48f44a4"
      },
      "source": [
        "# to check for span of every match\n",
        "for i in re.finditer(\"there\",txt):\n",
        "  print(i.span())"
      ],
      "execution_count": 17,
      "outputs": [
        {
          "output_type": "stream",
          "text": [
            "(4, 9)\n",
            "(18, 23)\n"
          ],
          "name": "stdout"
        }
      ]
    },
    {
      "cell_type": "code",
      "metadata": {
        "id": "51k45pPbgqg4",
        "colab_type": "code",
        "colab": {
          "base_uri": "https://localhost:8080/",
          "height": 34
        },
        "outputId": "b875f858-fdd0-4988-bb3a-30ed669fb490"
      },
      "source": [
        "text"
      ],
      "execution_count": 18,
      "outputs": [
        {
          "output_type": "execute_result",
          "data": {
            "text/plain": [
              "'Hey the phone number of the agent is 912-933-2434. Please call soon'"
            ]
          },
          "metadata": {
            "tags": []
          },
          "execution_count": 18
        }
      ]
    },
    {
      "cell_type": "code",
      "metadata": {
        "id": "8g4kwKBnhxKk",
        "colab_type": "code",
        "colab": {
          "base_uri": "https://localhost:8080/",
          "height": 34
        },
        "outputId": "601b8baf-fc71-4d6e-b947-2652b19390a6"
      },
      "source": [
        "# Lets apply regular expression\n",
        "\n",
        "pattern = r'\\d\\d\\d-\\d\\d\\d-\\d\\d\\d\\d'\n",
        "re.search(pattern,text)"
      ],
      "execution_count": 19,
      "outputs": [
        {
          "output_type": "execute_result",
          "data": {
            "text/plain": [
              "<_sre.SRE_Match object; span=(37, 49), match='912-933-2434'>"
            ]
          },
          "metadata": {
            "tags": []
          },
          "execution_count": 19
        }
      ]
    },
    {
      "cell_type": "code",
      "metadata": {
        "id": "bbGCkYc_h9cs",
        "colab_type": "code",
        "colab": {}
      },
      "source": [
        "pattern = r'\\d{3}-\\d{3}-\\d{4}'\n",
        "a = re.search(pattern,text)"
      ],
      "execution_count": 0,
      "outputs": []
    },
    {
      "cell_type": "code",
      "metadata": {
        "id": "JCPo2ao5icA_",
        "colab_type": "code",
        "colab": {
          "base_uri": "https://localhost:8080/",
          "height": 34
        },
        "outputId": "a9f2d47f-cea4-4c76-8255-e006f7ff6f5c"
      },
      "source": [
        "a.group()"
      ],
      "execution_count": 22,
      "outputs": [
        {
          "output_type": "execute_result",
          "data": {
            "text/plain": [
              "'912-933-2434'"
            ]
          },
          "metadata": {
            "tags": []
          },
          "execution_count": 22
        }
      ]
    },
    {
      "cell_type": "code",
      "metadata": {
        "id": "Lfejqe6_ii-f",
        "colab_type": "code",
        "colab": {}
      },
      "source": [
        "pattern = r'(\\d{3})-(\\d{3})-(\\d{4})'\n",
        "a = re.search(pattern,text)"
      ],
      "execution_count": 0,
      "outputs": []
    },
    {
      "cell_type": "code",
      "metadata": {
        "id": "EGRvW9amjOyt",
        "colab_type": "code",
        "colab": {
          "base_uri": "https://localhost:8080/",
          "height": 34
        },
        "outputId": "1f0c55be-5507-4e71-9050-f1683bfb7ea2"
      },
      "source": [
        "a.group(), a.group(0), a.group(1), a.group(2), a.group(3)"
      ],
      "execution_count": 27,
      "outputs": [
        {
          "output_type": "execute_result",
          "data": {
            "text/plain": [
              "('912-933-2434', '912-933-2434', '912', '933', '2434')"
            ]
          },
          "metadata": {
            "tags": []
          },
          "execution_count": 27
        }
      ]
    },
    {
      "cell_type": "markdown",
      "metadata": {
        "id": "ypsgTMjxjcCP",
        "colab_type": "text"
      },
      "source": [
        "what () does is it divides the string into different small substrings that are searched individually."
      ]
    },
    {
      "cell_type": "code",
      "metadata": {
        "id": "RppO8PGbjQZ2",
        "colab_type": "code",
        "colab": {
          "base_uri": "https://localhost:8080/",
          "height": 34
        },
        "outputId": "b1fb96d0-e622-4470-e9a7-0a08bd98a422"
      },
      "source": [
        "a = re.search(r'man|woman',\"this man is bad\") # pipe operator is used as `or` operator.\n",
        "a.span()"
      ],
      "execution_count": 29,
      "outputs": [
        {
          "output_type": "execute_result",
          "data": {
            "text/plain": [
              "(5, 8)"
            ]
          },
          "metadata": {
            "tags": []
          },
          "execution_count": 29
        }
      ]
    },
    {
      "cell_type": "code",
      "metadata": {
        "id": "erUr2LqUj0m_",
        "colab_type": "code",
        "colab": {
          "base_uri": "https://localhost:8080/",
          "height": 34
        },
        "outputId": "04e6ddae-ff32-49bf-b52a-8b9c30f08061"
      },
      "source": [
        "re.findall(r'.at',\"the cat in hat sat on splat\") # . represents one character"
      ],
      "execution_count": 31,
      "outputs": [
        {
          "output_type": "execute_result",
          "data": {
            "text/plain": [
              "['cat', 'hat', 'sat', 'lat']"
            ]
          },
          "metadata": {
            "tags": []
          },
          "execution_count": 31
        }
      ]
    },
    {
      "cell_type": "code",
      "metadata": {
        "id": "vcN6y9FZkS8H",
        "colab_type": "code",
        "colab": {
          "base_uri": "https://localhost:8080/",
          "height": 34
        },
        "outputId": "f91aaec6-4f1e-4891-e410-0d92de9ec816"
      },
      "source": [
        "re.findall(r'..at',\"the cat in hat sat on splat\") # . represents one character"
      ],
      "execution_count": 33,
      "outputs": [
        {
          "output_type": "execute_result",
          "data": {
            "text/plain": [
              "[' cat', ' hat', ' sat', 'plat']"
            ]
          },
          "metadata": {
            "tags": []
          },
          "execution_count": 33
        }
      ]
    },
    {
      "cell_type": "code",
      "metadata": {
        "id": "o9iTxxX5kc5Q",
        "colab_type": "code",
        "colab": {}
      },
      "source": [
        "# ^ represents starting\n",
        "# $ represents ending"
      ],
      "execution_count": 0,
      "outputs": []
    },
    {
      "cell_type": "code",
      "metadata": {
        "id": "lhv53DKok8G-",
        "colab_type": "code",
        "colab": {
          "base_uri": "https://localhost:8080/",
          "height": 34
        },
        "outputId": "2b547bbd-fdf9-402f-8e99-8e76698d5541"
      },
      "source": [
        "re.search(r'^\\d',\"3 hot summers\")"
      ],
      "execution_count": 35,
      "outputs": [
        {
          "output_type": "execute_result",
          "data": {
            "text/plain": [
              "<_sre.SRE_Match object; span=(0, 1), match='3'>"
            ]
          },
          "metadata": {
            "tags": []
          },
          "execution_count": 35
        }
      ]
    },
    {
      "cell_type": "code",
      "metadata": {
        "id": "Z4zT52_MlJdE",
        "colab_type": "code",
        "colab": {}
      },
      "source": [
        "re.search(r'$\\d',\"3 hot summers5\")"
      ],
      "execution_count": 0,
      "outputs": []
    },
    {
      "cell_type": "code",
      "metadata": {
        "id": "6vSoICNUlOkQ",
        "colab_type": "code",
        "colab": {
          "base_uri": "https://localhost:8080/",
          "height": 221
        },
        "outputId": "4ed71106-ed21-41d2-8f92-fa7f8f51367e"
      },
      "source": [
        "re.findall(r\"[^!.? ]+\",\"this is a string! but it has punctuation. How to remove it?\")"
      ],
      "execution_count": 63,
      "outputs": [
        {
          "output_type": "execute_result",
          "data": {
            "text/plain": [
              "['this',\n",
              " 'is',\n",
              " 'a',\n",
              " 'string',\n",
              " 'but',\n",
              " 'it',\n",
              " 'has',\n",
              " 'punctuation',\n",
              " 'How',\n",
              " 'to',\n",
              " 'remove',\n",
              " 'it']"
            ]
          },
          "metadata": {
            "tags": []
          },
          "execution_count": 63
        }
      ]
    }
  ]
}