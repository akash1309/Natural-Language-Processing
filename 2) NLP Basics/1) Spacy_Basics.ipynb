{
  "nbformat": 4,
  "nbformat_minor": 0,
  "metadata": {
    "colab": {
      "name": "Spacy_Basics.ipynb",
      "provenance": []
    },
    "kernelspec": {
      "name": "python3",
      "display_name": "Python 3"
    }
  },
  "cells": [
    {
      "cell_type": "markdown",
      "metadata": {
        "id": "SFH0fpu3cfax",
        "colab_type": "text"
      },
      "source": [
        "# <h1><center>Spacy Basics"
      ]
    },
    {
      "cell_type": "code",
      "metadata": {
        "id": "vP9N0DEscc85",
        "colab_type": "code",
        "colab": {}
      },
      "source": [
        "import spacy"
      ],
      "execution_count": 0,
      "outputs": []
    },
    {
      "cell_type": "markdown",
      "metadata": {
        "id": "pwS3pR_4gbUI",
        "colab_type": "text"
      },
      "source": [
        "Loading the model"
      ]
    },
    {
      "cell_type": "code",
      "metadata": {
        "id": "6iRCX4stcof2",
        "colab_type": "code",
        "colab": {}
      },
      "source": [
        "nlp = spacy.load('en_core_web_sm')  #en_core_web_sm = core english language smaller versions"
      ],
      "execution_count": 0,
      "outputs": []
    },
    {
      "cell_type": "code",
      "metadata": {
        "id": "p87g0JxZc64q",
        "colab_type": "code",
        "colab": {}
      },
      "source": [
        "doc = nlp(u'Tesla is looking at buying U.S. startup for $6 millions')  # u represents unary format"
      ],
      "execution_count": 0,
      "outputs": []
    },
    {
      "cell_type": "code",
      "metadata": {
        "id": "2DtTLT98dnsR",
        "colab_type": "code",
        "colab": {
          "base_uri": "https://localhost:8080/",
          "height": 204
        },
        "outputId": "36099f33-0a49-4fdf-bd01-d1398046ba6a"
      },
      "source": [
        "for token in doc:\n",
        "  print(token.text)"
      ],
      "execution_count": 6,
      "outputs": [
        {
          "output_type": "stream",
          "text": [
            "Tesla\n",
            "is\n",
            "looking\n",
            "at\n",
            "buying\n",
            "U.S.\n",
            "startup\n",
            "for\n",
            "$\n",
            "6\n",
            "millions\n"
          ],
          "name": "stdout"
        }
      ]
    },
    {
      "cell_type": "code",
      "metadata": {
        "id": "8KkmIWNad1Hs",
        "colab_type": "code",
        "colab": {
          "base_uri": "https://localhost:8080/",
          "height": 204
        },
        "outputId": "76c01565-25d9-4fde-c2ea-afcd029fa670"
      },
      "source": [
        "for token in doc:\n",
        "  print(token.text,token.pos)  # pos = part of speech"
      ],
      "execution_count": 9,
      "outputs": [
        {
          "output_type": "stream",
          "text": [
            "Tesla 96\n",
            "is 87\n",
            "looking 100\n",
            "at 85\n",
            "buying 100\n",
            "U.S. 96\n",
            "startup 92\n",
            "for 85\n",
            "$ 99\n",
            "6 93\n",
            "millions 92\n"
          ],
          "name": "stdout"
        }
      ]
    },
    {
      "cell_type": "code",
      "metadata": {
        "id": "5tJc_kS5flFh",
        "colab_type": "code",
        "colab": {
          "base_uri": "https://localhost:8080/",
          "height": 204
        },
        "outputId": "0d4f78d8-5854-41b7-d70d-bacbb4b2386b"
      },
      "source": [
        "for token in doc:\n",
        "  print(token.text,token.pos_)"
      ],
      "execution_count": 10,
      "outputs": [
        {
          "output_type": "stream",
          "text": [
            "Tesla PROPN\n",
            "is AUX\n",
            "looking VERB\n",
            "at ADP\n",
            "buying VERB\n",
            "U.S. PROPN\n",
            "startup NOUN\n",
            "for ADP\n",
            "$ SYM\n",
            "6 NUM\n",
            "millions NOUN\n"
          ],
          "name": "stdout"
        }
      ]
    },
    {
      "cell_type": "markdown",
      "metadata": {
        "id": "_EEGFfHjfyK6",
        "colab_type": "text"
      },
      "source": [
        "PROPN = Proper Noun\n",
        "AUX = auxillary verb, etc\n"
      ]
    },
    {
      "cell_type": "code",
      "metadata": {
        "id": "tYzi9PSfftP8",
        "colab_type": "code",
        "colab": {
          "base_uri": "https://localhost:8080/",
          "height": 204
        },
        "outputId": "09cb7423-4b36-4e1c-9ada-32c6b86d90f7"
      },
      "source": [
        "for token in doc:\n",
        "  print(token.text,token.dep_)   #dep_ = syntactic dependency"
      ],
      "execution_count": 11,
      "outputs": [
        {
          "output_type": "stream",
          "text": [
            "Tesla nsubj\n",
            "is aux\n",
            "looking ROOT\n",
            "at prep\n",
            "buying pcomp\n",
            "U.S. compound\n",
            "startup dobj\n",
            "for prep\n",
            "$ quantmod\n",
            "6 nummod\n",
            "millions pobj\n"
          ],
          "name": "stdout"
        }
      ]
    },
    {
      "cell_type": "markdown",
      "metadata": {
        "id": "lzOZz9o4gfNB",
        "colab_type": "text"
      },
      "source": [
        "Creating a pipeline"
      ]
    },
    {
      "cell_type": "code",
      "metadata": {
        "id": "0AWA8RVwgIjl",
        "colab_type": "code",
        "colab": {
          "base_uri": "https://localhost:8080/",
          "height": 68
        },
        "outputId": "283ad48e-3e2c-403e-a609-595e82253e56"
      },
      "source": [
        "nlp.pipeline"
      ],
      "execution_count": 12,
      "outputs": [
        {
          "output_type": "execute_result",
          "data": {
            "text/plain": [
              "[('tagger', <spacy.pipeline.pipes.Tagger at 0x7f8aa8901f98>),\n",
              " ('parser', <spacy.pipeline.pipes.DependencyParser at 0x7f8aa8759648>),\n",
              " ('ner', <spacy.pipeline.pipes.EntityRecognizer at 0x7f8aa87596a8>)]"
            ]
          },
          "metadata": {
            "tags": []
          },
          "execution_count": 12
        }
      ]
    },
    {
      "cell_type": "code",
      "metadata": {
        "id": "z-OKSyVhgjci",
        "colab_type": "code",
        "colab": {
          "base_uri": "https://localhost:8080/",
          "height": 34
        },
        "outputId": "de05a23a-8298-4e09-bce1-14b9020968df"
      },
      "source": [
        "nlp.pipe_names"
      ],
      "execution_count": 13,
      "outputs": [
        {
          "output_type": "execute_result",
          "data": {
            "text/plain": [
              "['tagger', 'parser', 'ner']"
            ]
          },
          "metadata": {
            "tags": []
          },
          "execution_count": 13
        }
      ]
    },
    {
      "cell_type": "markdown",
      "metadata": {
        "id": "HsKfOpXUilE4",
        "colab_type": "text"
      },
      "source": [
        "___\n",
        "## Spans\n",
        "Large Doc objects can be hard to work with at times. A **span** is a slice of Doc object in the form `Doc[start:stop]`."
      ]
    },
    {
      "cell_type": "code",
      "metadata": {
        "id": "vrsJ7sWKgs6W",
        "colab_type": "code",
        "colab": {}
      },
      "source": [
        "doc3 = nlp(u'Although commmonly attributed to John Lennon from his song \"Beautiful Boy\", \\\n",
        "the phrase \"Life is what happens to us while we are making other plans\" was written by \\\n",
        "cartoonist Allen Saunders and published in Reader\\'s Digest in 1957, when Lennon was 17.')"
      ],
      "execution_count": 0,
      "outputs": []
    },
    {
      "cell_type": "code",
      "metadata": {
        "id": "uafMuz0gio6g",
        "colab_type": "code",
        "colab": {
          "base_uri": "https://localhost:8080/",
          "height": 34
        },
        "outputId": "8e8f5e4d-afb7-4721-f9bf-c43c0ef568a5"
      },
      "source": [
        "life_quote = doc3[16:30]\n",
        "print(life_quote)"
      ],
      "execution_count": 15,
      "outputs": [
        {
          "output_type": "stream",
          "text": [
            "\"Life is what happens to us while we are making other plans\"\n"
          ],
          "name": "stdout"
        }
      ]
    },
    {
      "cell_type": "code",
      "metadata": {
        "id": "8bJwie-mi7Nu",
        "colab_type": "code",
        "colab": {
          "base_uri": "https://localhost:8080/",
          "height": 34
        },
        "outputId": "c5a7a466-d16a-40b4-a481-1a7e86a05a3c"
      },
      "source": [
        "type(life_quote)"
      ],
      "execution_count": 16,
      "outputs": [
        {
          "output_type": "execute_result",
          "data": {
            "text/plain": [
              "spacy.tokens.span.Span"
            ]
          },
          "metadata": {
            "tags": []
          },
          "execution_count": 16
        }
      ]
    },
    {
      "cell_type": "code",
      "metadata": {
        "id": "PS5-pX-wi9SR",
        "colab_type": "code",
        "colab": {
          "base_uri": "https://localhost:8080/",
          "height": 34
        },
        "outputId": "b3fc2bc0-adab-46d3-9795-00ba1c85c4c9"
      },
      "source": [
        "type(doc3)"
      ],
      "execution_count": 17,
      "outputs": [
        {
          "output_type": "execute_result",
          "data": {
            "text/plain": [
              "spacy.tokens.doc.Doc"
            ]
          },
          "metadata": {
            "tags": []
          },
          "execution_count": 17
        }
      ]
    },
    {
      "cell_type": "markdown",
      "metadata": {
        "id": "AY1POueAjVYG",
        "colab_type": "text"
      },
      "source": [
        "___\n",
        "## Sentences\n",
        "Certain tokens inside a Doc object may also receive a \"start of sentence\" tag. While this doesn't immediately build a list of sentences, these tags enable the generation of sentence segments through `Doc.sents`. Later we'll write our own segmentation rules."
      ]
    },
    {
      "cell_type": "code",
      "metadata": {
        "id": "wCznSexEi_O8",
        "colab_type": "code",
        "colab": {}
      },
      "source": [
        "doc4 = nlp(u'This is the first sentence. This is another sentence. This is the last sentence.')"
      ],
      "execution_count": 0,
      "outputs": []
    },
    {
      "cell_type": "code",
      "metadata": {
        "id": "SbbGVN-cjd1A",
        "colab_type": "code",
        "colab": {
          "base_uri": "https://localhost:8080/",
          "height": 68
        },
        "outputId": "0c2d2f09-fec9-41e3-c2a0-ad3bd1ae6e0e"
      },
      "source": [
        "for sent in doc4.sents:\n",
        "    print(sent)"
      ],
      "execution_count": 19,
      "outputs": [
        {
          "output_type": "stream",
          "text": [
            "This is the first sentence.\n",
            "This is another sentence.\n",
            "This is the last sentence.\n"
          ],
          "name": "stdout"
        }
      ]
    },
    {
      "cell_type": "code",
      "metadata": {
        "id": "Q3CcyODgjfuH",
        "colab_type": "code",
        "colab": {
          "base_uri": "https://localhost:8080/",
          "height": 34
        },
        "outputId": "27ca818a-d99e-410b-a6aa-501137c5aef1"
      },
      "source": [
        "doc4[6].is_sent_start"
      ],
      "execution_count": 20,
      "outputs": [
        {
          "output_type": "execute_result",
          "data": {
            "text/plain": [
              "True"
            ]
          },
          "metadata": {
            "tags": []
          },
          "execution_count": 20
        }
      ]
    },
    {
      "cell_type": "code",
      "metadata": {
        "id": "JFajVjERjlGZ",
        "colab_type": "code",
        "colab": {}
      },
      "source": [
        "doc4[7].is_sent_start"
      ],
      "execution_count": 0,
      "outputs": []
    },
    {
      "cell_type": "code",
      "metadata": {
        "id": "bwJhclVtjm9z",
        "colab_type": "code",
        "colab": {}
      },
      "source": [
        ""
      ],
      "execution_count": 0,
      "outputs": []
    }
  ]
}