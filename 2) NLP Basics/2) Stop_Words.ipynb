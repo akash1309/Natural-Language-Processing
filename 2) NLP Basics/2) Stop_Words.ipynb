{
  "nbformat": 4,
  "nbformat_minor": 0,
  "metadata": {
    "colab": {
      "name": "Stop Words.ipynb",
      "provenance": [],
      "toc_visible": true
    },
    "kernelspec": {
      "name": "python3",
      "display_name": "Python 3"
    }
  },
  "cells": [
    {
      "cell_type": "markdown",
      "metadata": {
        "id": "WUqzOE4-XRFq",
        "colab_type": "text"
      },
      "source": [
        "# Stop Words"
      ]
    },
    {
      "cell_type": "code",
      "metadata": {
        "id": "QWvTV1tRXQZY",
        "colab_type": "code",
        "colab": {}
      },
      "source": [
        "import spacy"
      ],
      "execution_count": 0,
      "outputs": []
    },
    {
      "cell_type": "code",
      "metadata": {
        "id": "QikuRoktXWfO",
        "colab_type": "code",
        "colab": {}
      },
      "source": [
        "nlp = spacy.load('en_core_web_sm')"
      ],
      "execution_count": 0,
      "outputs": []
    },
    {
      "cell_type": "markdown",
      "metadata": {
        "id": "maqFMViQXmCn",
        "colab_type": "text"
      },
      "source": [
        "Getting all the stop words"
      ]
    },
    {
      "cell_type": "code",
      "metadata": {
        "id": "nOUHYQjYXf7q",
        "colab_type": "code",
        "colab": {
          "base_uri": "https://localhost:8080/",
          "height": 54
        },
        "outputId": "1770bdf2-c903-4834-ecb9-4eb30eeca875"
      },
      "source": [
        "print(nlp.Defaults.stop_words)"
      ],
      "execution_count": 3,
      "outputs": [
        {
          "output_type": "stream",
          "text": [
            "{'hence', 'former', 'whereas', 'none', 'do', 'may', 'under', 'each', 'often', 'used', 'herein', 'back', 'next', 'various', '‘d', 'please', 'over', 'every', 'hereafter', 'more', 'very', 'but', 'since', 'also', 'regarding', 'thence', 'most', 'eleven', 'latterly', 'together', 'call', 'go', 'whereby', 'yours', 'hundred', 'move', 'seeming', '‘ve', 'perhaps', 'nobody', 'become', 'did', 'through', 'whether', 'already', \"'s\", 'onto', 'however', 'rather', 'made', 'never', 'for', 'would', 'then', 'they', 'twenty', 'will', 'could', 'alone', 'themselves', 'thereafter', 'no', 'and', 'am', 'amount', \"'ve\", 'two', \"n't\", 'during', 'else', 'we', 'afterwards', 'behind', 'been', 'put', 'top', '‘m', '‘re', 'show', 'throughout', 'between', 'eight', 'give', 'due', 'beforehand', 'myself', 'mostly', 'beyond', 'whatever', 'fifteen', '‘s', 'last', 'whereupon', 'yourselves', 'sometimes', 'can', 'therefore', 'below', 'enough', 'all', 'you', 'although', 'anywhere', '’re', 'five', 'something', 'besides', 'full', '’ve', 're', 'whither', 'nevertheless', 'side', 'itself', 'beside', 'along', 'somewhere', 'see', 'several', 'becoming', 'someone', 'bottom', 'into', 'now', 'hereby', 'what', 'keep', 'therein', 'front', 'third', 'have', 'whoever', 'yet', 'before', 'among', 'mine', 'really', 'about', 'always', 'around', 'fifty', 'using', 'of', 'should', 'six', 'namely', '‘ll', 'too', 'became', 'many', 'out', 'your', 'which', 'as', 'cannot', 'herself', 'some', 'somehow', 'their', 'becomes', 'in', 'almost', 'from', 'nine', 'others', 'sometime', 'still', \"'d\", 'or', 'whose', 'another', 'meanwhile', 'everywhere', 'so', 'empty', 'up', 'being', 'a', 'indeed', 'seemed', 'four', 'whereafter', 'both', 'doing', 'when', 'be', 'within', 'thereby', 'hers', 'if', 'thus', 'get', 'not', 'n‘t', 'himself', 'were', 'at', 'few', 'ours', 'is', 'it', 'off', 'us', 'above', 'either', 'via', 'on', 'she', 'least', 'such', 'seem', 'same', 'those', 'yourself', 'anything', \"'re\", '’ll', 'his', \"'ll\", 'that', 'take', 'everyone', 'serious', 'how', 'though', 'towards', 'well', 'whenever', '’d', 'anyhow', 'moreover', '’s', 'he', 'forty', 'had', 'hereupon', 'i', 'has', 'twelve', 'who', 'less', 'her', 'ever', 'further', 'than', 'there', 'one', 'upon', 'wherein', 'why', 'whom', 'down', 'elsewhere', 'until', 'amongst', 'just', 'are', 'first', 'much', 'was', 'own', 'quite', 'three', 'ca', 'other', 'must', 'noone', 'neither', 'only', 'toward', 'its', 'me', 'per', 'nor', 'thereupon', 'make', 'whole', 'without', 'with', 'our', 'him', 'unless', 'done', 'everything', 'while', '’m', 'does', 'n’t', 'once', 'might', 'otherwise', 'where', 'ourselves', 'anyone', 'wherever', 'whence', 'seems', 'the', 'name', 'my', 'after', 'even', 'again', 'because', 'say', 'nowhere', 'ten', 'these', 'latter', 'against', 'them', 'here', 'this', 'formerly', 'thru', \"'m\", 'by', 'sixty', 'an', 'anyway', 'except', 'part', 'to', 'across', 'any', 'nothing'}\n"
          ],
          "name": "stdout"
        }
      ]
    },
    {
      "cell_type": "code",
      "metadata": {
        "id": "14TFc8MnXsen",
        "colab_type": "code",
        "colab": {
          "base_uri": "https://localhost:8080/",
          "height": 34
        },
        "outputId": "7fec62fe-7833-4c81-e32b-6e99421a1d72"
      },
      "source": [
        "len(nlp.Defaults.stop_words)"
      ],
      "execution_count": 4,
      "outputs": [
        {
          "output_type": "execute_result",
          "data": {
            "text/plain": [
              "326"
            ]
          },
          "metadata": {
            "tags": []
          },
          "execution_count": 4
        }
      ]
    },
    {
      "cell_type": "markdown",
      "metadata": {
        "id": "YZAuboA9X-GI",
        "colab_type": "text"
      },
      "source": [
        "To check whether a word is stop word or not"
      ]
    },
    {
      "cell_type": "code",
      "metadata": {
        "id": "N-R7v3HwX4J1",
        "colab_type": "code",
        "colab": {
          "base_uri": "https://localhost:8080/",
          "height": 34
        },
        "outputId": "1685a349-00fc-4147-feea-b0d7cf709e05"
      },
      "source": [
        "nlp.vocab['is'].is_stop"
      ],
      "execution_count": 5,
      "outputs": [
        {
          "output_type": "execute_result",
          "data": {
            "text/plain": [
              "True"
            ]
          },
          "metadata": {
            "tags": []
          },
          "execution_count": 5
        }
      ]
    },
    {
      "cell_type": "code",
      "metadata": {
        "id": "ftW0S2g4YE2P",
        "colab_type": "code",
        "colab": {
          "base_uri": "https://localhost:8080/",
          "height": 34
        },
        "outputId": "a4ef404a-759a-4e4d-cc27-415e6efbb3f1"
      },
      "source": [
        "nlp.vocab['ram'].is_stop"
      ],
      "execution_count": 6,
      "outputs": [
        {
          "output_type": "execute_result",
          "data": {
            "text/plain": [
              "False"
            ]
          },
          "metadata": {
            "tags": []
          },
          "execution_count": 6
        }
      ]
    },
    {
      "cell_type": "markdown",
      "metadata": {
        "id": "QOWwm5XtYSZG",
        "colab_type": "text"
      },
      "source": [
        "Adding a word as stop_word"
      ]
    },
    {
      "cell_type": "code",
      "metadata": {
        "id": "r3jPPJDPYJ0Z",
        "colab_type": "code",
        "colab": {}
      },
      "source": [
        "nlp.Defaults.stop_words.add('btw')\n",
        "nlp.vocab['btw'].is_stop = True"
      ],
      "execution_count": 0,
      "outputs": []
    },
    {
      "cell_type": "code",
      "metadata": {
        "id": "1E0tuiYKYdct",
        "colab_type": "code",
        "colab": {
          "base_uri": "https://localhost:8080/",
          "height": 34
        },
        "outputId": "a8e0ce2e-22c9-4aae-a6a7-45f999661265"
      },
      "source": [
        "len(nlp.Defaults.stop_words)"
      ],
      "execution_count": 8,
      "outputs": [
        {
          "output_type": "execute_result",
          "data": {
            "text/plain": [
              "327"
            ]
          },
          "metadata": {
            "tags": []
          },
          "execution_count": 8
        }
      ]
    },
    {
      "cell_type": "code",
      "metadata": {
        "id": "MotInTBRYhqR",
        "colab_type": "code",
        "colab": {
          "base_uri": "https://localhost:8080/",
          "height": 34
        },
        "outputId": "dccdda5d-7fd2-49f2-af94-45084f9b8eed"
      },
      "source": [
        "nlp.vocab['btw'].is_stop"
      ],
      "execution_count": 9,
      "outputs": [
        {
          "output_type": "execute_result",
          "data": {
            "text/plain": [
              "True"
            ]
          },
          "metadata": {
            "tags": []
          },
          "execution_count": 9
        }
      ]
    },
    {
      "cell_type": "markdown",
      "metadata": {
        "id": "KW4vyJkgYqOm",
        "colab_type": "text"
      },
      "source": [
        "Removing a stop word"
      ]
    },
    {
      "cell_type": "code",
      "metadata": {
        "id": "bdGhW9YEYl1P",
        "colab_type": "code",
        "colab": {}
      },
      "source": [
        "nlp.Defaults.stop_words.remove('beyond')\n",
        "nlp.vocab['beyond'].is_stop = False"
      ],
      "execution_count": 0,
      "outputs": []
    },
    {
      "cell_type": "code",
      "metadata": {
        "id": "Uyt047veY2j5",
        "colab_type": "code",
        "colab": {
          "base_uri": "https://localhost:8080/",
          "height": 34
        },
        "outputId": "e07c6929-a012-4725-8612-3334d4039264"
      },
      "source": [
        "len(nlp.Defaults.stop_words)"
      ],
      "execution_count": 11,
      "outputs": [
        {
          "output_type": "execute_result",
          "data": {
            "text/plain": [
              "326"
            ]
          },
          "metadata": {
            "tags": []
          },
          "execution_count": 11
        }
      ]
    },
    {
      "cell_type": "code",
      "metadata": {
        "id": "ea1huNrYY8TX",
        "colab_type": "code",
        "colab": {}
      },
      "source": [
        ""
      ],
      "execution_count": 0,
      "outputs": []
    }
  ]
}